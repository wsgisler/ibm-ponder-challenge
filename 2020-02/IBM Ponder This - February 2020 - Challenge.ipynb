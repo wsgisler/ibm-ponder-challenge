{
 "cells": [
  {
   "cell_type": "markdown",
   "metadata": {},
   "source": [
    "# IBM Ponder This - February 2020 - Challenge\n",
    "by Walter Sebastian Gisler"
   ]
  },
  {
   "cell_type": "markdown",
   "metadata": {},
   "source": [
    "## Problem Statement\n",
    "\n",
    "The original problem statement can be found here: https://www.research.ibm.com/haifa/ponderthis/challenges/February2020.html\n",
    "\n",
    "In the famous Snakes and Ladders game, there is a board with 100 squares. You start at square 0 (just outside of the board) and then proceed to advance based on your move, which is dictacted by the throw of a fair dice. If your piece lands on a square that is at the very bottom of a ladder, you climb it. If your turn lands you at the head of a snake, you slide down to the bottom of its tail. And if your turn takes you out of the board (a square > 100), you stay in the square where you are at the time the dice was thrown.\n",
    "\n",
    "Your challenge this month is to design a game with 10 ladders and snakes altogether that will lead to an expected number of moves (rounded to the 6th decimal place) of 66.978705.\n",
    "\n",
    "Provide your answer as a list of 10 [source,target] pairs.\n",
    "\n",
    "As an example, the standard game of 19, with 9 ladders and 10 snakes: \n",
    "[1,38],[4,14],[9,31],[21,42],[28,84],[36,44],[51,67],[71,91],[80,100],[16,6],[47,26],[49,11],[56,53],[62,19],[64,60,],[87,24],[93,73],[95,75],[98,78] has an expected 39.225122 moves (again, rounded to the 6th decimal place)."
   ]
  },
  {
   "cell_type": "markdown",
   "metadata": {},
   "source": [
    "## Different ways of calculating the expected number of moves\n",
    "\n",
    "### Simulation\n",
    "\n",
    "Before I start, I want to verify that I am calculating the expected number of moves correctly. I depend on this calculation later on. Let's start by simulating a game:"
   ]
  },
  {
   "cell_type": "code",
   "execution_count": 2,
   "metadata": {},
   "outputs": [],
   "source": [
    "# We need to be able to simulate a dice, the choice method is perfect for this\n",
    "\n",
    "from random import choice\n",
    "\n",
    "# Let us now specify the game that was given as an example\n",
    "\n",
    "game = [[1,38],[4,14],[9,31],[21,42],[28,84],[36,44],[51,67],[71,91],[80,100],[16,6],[47,26],[49,11],[56,53],[62,19],[64,60,],[87,24],[93,73],[95,75],[98,78]]\n",
    "\n",
    "# The \"game\" format is not so convenient, so let us create a dictionary where each key represents a \n",
    "# square that is either a head of snake or the bottom of a ladder and each value represents the tail\n",
    "# of the corresponding snake or the top of the corresponding ladder\n",
    "\n",
    "paths = {pair[0]: pair[1] for pair in game}\n",
    "\n",
    "# Now, this is our method that we can use to simulate a single game\n",
    "\n",
    "def simulate():\n",
    "    current_tile = 0\n",
    "    number_attempts = 0\n",
    "    while current_tile != 100: # If we are on square 100, the game is finished, in this case number_attempts is returned\n",
    "        dice = choice([1,2,3,4,5,6]) # Throw a dice\n",
    "        next_tile = current_tile + dice # This is the square we will land on\n",
    "        number_attempts += 1 # Every throw of a dice increases the number of attempts by 1\n",
    "        if next_tile in paths: # If we land on a tile that corresponds to a head of a snake or the end of a ladder, we move\n",
    "            current_tile = paths[next_tile]\n",
    "        else: # Otherwise, we stay on that square\n",
    "            current_tile = next_tile\n",
    "        if current_tile > 100: # If we throw a number that gets us past square 100, we just stay where we are\n",
    "            current_tile = current_tile - dice\n",
    "    return number_attempts"
   ]
  },
  {
   "cell_type": "markdown",
   "metadata": {},
   "source": [
    "Ok, now let's do a single simulation and see what we get:"
   ]
  },
  {
   "cell_type": "code",
   "execution_count": 3,
   "metadata": {},
   "outputs": [
    {
     "name": "stdout",
     "output_type": "stream",
     "text": [
      "34\n"
     ]
    }
   ],
   "source": [
    "print(simulate())"
   ]
  },
  {
   "cell_type": "markdown",
   "metadata": {},
   "source": [
    "That's quite close to 39.225, but we still can't be sure the example is correct. Let's do this 100000 times and see what we get now:"
   ]
  },
  {
   "cell_type": "code",
   "execution_count": 7,
   "metadata": {},
   "outputs": [
    {
     "name": "stdout",
     "output_type": "stream",
     "text": [
      "Expected number of attempts: 39.242938\n"
     ]
    }
   ],
   "source": [
    "number_simulations = 1000000\n",
    "total_attempts = 0\n",
    "for i in range(number_simulations):\n",
    "    total_attempts += simulate()\n",
    "print('Expected number of attempts: '+str(total_attempts/number_simulations))"
   ]
  },
  {
   "cell_type": "markdown",
   "metadata": {},
   "source": [
    "Alright, we are off by around 0.02 but I think this is good enough to be sure that the example is correct. However, this way of calculating the expected number of moves is obviously rather slow and not accurate enough, so we need a better method."
   ]
  },
  {
   "cell_type": "markdown",
   "metadata": {},
   "source": [
    "### Markov Chains\n",
    "\n",
    "The snakes and ladders game can obviously be modeled using markov chains. A fantastic tool! I first came across markov chains in an undergraduate operations research class where we were looking at queing theory. Later on, I encountered them again in many different contexts: maroeconomics, revenue management, machine learning (text recognition for example), price forecasting, sports analytics etc. They are everywhere!\n",
    "\n",
    "A nice article about Markov chains and the snakes and ladders game can be found here: http://www.datagenetics.com/blog/november12011/"
   ]
  },
  {
   "cell_type": "markdown",
   "metadata": {},
   "source": [
    "In order to work with Markov chains, we first need to define the transition matrix, which is the matrix that gives the probability of passing from one state to another (i.e. from one square to another). each row index in this matrix corresponds to a start position in the game and each column index corresponds to an end position after making one move from a start position. To faciliate things, I am first defining a method that allows me to calculate where I end up, given a start position, the result of dice roll and a given game:"
   ]
  },
  {
   "cell_type": "code",
   "execution_count": 8,
   "metadata": {},
   "outputs": [],
   "source": [
    "def calculate_end_field(start_field, dice, game):\n",
    "    paths = {pair[0]: pair[1] for pair in game}\n",
    "    if start_field + dice in paths:\n",
    "        return paths[start_field + dice]\n",
    "    elif start_field + dice > 100:\n",
    "        return start_field\n",
    "    else:\n",
    "        return start_field + dice"
   ]
  },
  {
   "cell_type": "markdown",
   "metadata": {},
   "source": [
    "Now, let's define a method that calculates the expected number of moves:"
   ]
  },
  {
   "cell_type": "code",
   "execution_count": 9,
   "metadata": {},
   "outputs": [],
   "source": [
    "import numpy as np\n",
    "\n",
    "def calculate_expected_num_attempts(game):\n",
    "    fields = list(range(101))\n",
    "    \n",
    "    # initialize transition matrix\n",
    "    transition_matrix = [[0 for end_field in fields] for start_field in fields]\n",
    "\n",
    "    # populate values in transition matrix\n",
    "    for start_field in fields:\n",
    "        for dice in [1,2,3,4,5,6]:\n",
    "            transition_matrix[start_field][calculate_end_field(start_field, dice, game)] +=  1/6\n",
    "            \n",
    "    # Once the player arrives on the last square, the game is finished, the player is absorbed:\n",
    "    transition_matrix[100][100] = 0 \n",
    "    \n",
    "    # Convert this to a numpy matrix, and remove the last row and column\n",
    "    tm = np.matrix(transition_matrix)\n",
    "    tm1 = np.delete(tm, 100, 0)\n",
    "    tm2 = np.delete(tm1, 100, 1)\n",
    "    \n",
    "    # And calculate the expect number of moves! (for explanation take a look at the link above)\n",
    "    a = (np.identity(100)-tm2)**-1\n",
    "    e = np.sum(a[0])\n",
    "    return e"
   ]
  },
  {
   "cell_type": "markdown",
   "metadata": {},
   "source": [
    "Let's test that with the example that was given in the problem statement:"
   ]
  },
  {
   "cell_type": "code",
   "execution_count": 10,
   "metadata": {},
   "outputs": [
    {
     "name": "stdout",
     "output_type": "stream",
     "text": [
      "39.2251223082349\n"
     ]
    }
   ],
   "source": [
    "game = [[1,38],[4,14],[9,31],[21,42],[28,84],[36,44],[51,67],[71,91],[80,100],[16,6],[47,26],[49,11],[56,53],[62,19],[64,60],[87,24],[93,73],[95,75],[98,78]]\n",
    "e = calculate_expected_num_attempts(game)\n",
    "print(e)"
   ]
  },
  {
   "cell_type": "markdown",
   "metadata": {},
   "source": [
    "Perfect. That confirms that this method is working correctly. Plus: the calculation seems pretty fast, so we could actually try some kind of local search. Let's try:"
   ]
  },
  {
   "cell_type": "markdown",
   "metadata": {},
   "source": [
    "## Solution Attempt 1: Local Search"
   ]
  },
  {
   "cell_type": "markdown",
   "metadata": {},
   "source": [
    "First, we need a method to copy a given game and also a method to make small modifications to a game. For modifications, we will remove one snake or ladder and then reinsert a new rand one."
   ]
  },
  {
   "cell_type": "code",
   "execution_count": 16,
   "metadata": {},
   "outputs": [],
   "source": [
    "def copy_game(original):\n",
    "    return [[el[0], el[1]] for el in original]\n",
    "    \n",
    "def modify_game(game):\n",
    "    new_game = copy_game(game)\n",
    "    modification = choice([1,2,3]) # randomly chose what kind of modification we want to do\n",
    "    sl1 = choice([0,1,2,3,4,5,6,7,8,9]) # chose a first snake or ladder\n",
    "    sl2 = choice(list(set([0,1,2,3,4,5,6,7,8,9])-{sl1})) # chose a second snake or ladder\n",
    "    if modification == 1:\n",
    "        # completely redo a ladder\n",
    "        new_game[sl1][0] = choice(list(range(1, 100)))\n",
    "        new_game[sl1][1] = choice(list(range(new_game[sl1][0], 101)))\n",
    "    if modification == 2:\n",
    "        # completely redo a snake\n",
    "        new_game[sl1][0] = choice(list(range(2, 100)))\n",
    "        new_game[sl1][1] = choice(list(range(1, new_game[sl1][0])))\n",
    "    if modification == 3:\n",
    "        # completely redo a ladder and a snake\n",
    "        new_game[sl1][0] = choice(list(range(1, 100)))\n",
    "        new_game[sl1][1] = choice(list(range(new_game[sl1][0], 101)))\n",
    "        new_game[sl2][0] = choice(list(range(2, 100)))\n",
    "        new_game[sl2][1] = choice(list(range(1, new_game[sl2][0])))\n",
    "    # Make sure that the there are no overlaps (we don't want a square to have more than one start or end of a snake or ladder)\n",
    "    flat = []\n",
    "    for element in new_game:\n",
    "        flat += element\n",
    "    if len(flat) == len(set(flat)):\n",
    "        return new_game\n",
    "    # If there are overlaps, the old game is returned without modifications\n",
    "    return game"
   ]
  },
  {
   "cell_type": "markdown",
   "metadata": {},
   "source": [
    "We will use simulated annealing, so we also need a scoring function and an acceptance function. We could easily replace the accept_neighbor function to turn this into a tabu search etc."
   ]
  },
  {
   "cell_type": "code",
   "execution_count": 20,
   "metadata": {},
   "outputs": [],
   "source": [
    "def score(solution):\n",
    "    return -abs(calculate_expected_num_attempts(solution) - 66.978705)\n",
    "\n",
    "from math import exp\n",
    "from random import random\n",
    "def accept_neighbor(current, neighbor, current_score, neighbor_score, temperature):\n",
    "    enumber = (neighbor_score-current_score)/temperature\n",
    "    p = exp(enumber)\n",
    "    rand = random()\n",
    "    next = current\n",
    "    if(rand < p):\n",
    "        next = neighbor\n",
    "        current_score = neighbor_score\n",
    "    return next, current_score"
   ]
  },
  {
   "cell_type": "markdown",
   "metadata": {},
   "source": [
    "Now let's add the main method for simulated annealing:"
   ]
  },
  {
   "cell_type": "code",
   "execution_count": 23,
   "metadata": {},
   "outputs": [],
   "source": [
    "from time import time\n",
    "\n",
    "def simulated_annealing(starting_solution, start_temperature, t_min, alpha, beta):\n",
    "    best_candidate = starting_solution\n",
    "    total_evaluated = 0\n",
    "    total_improvements = 0\n",
    "    best_score = 100000\n",
    "    current_candidate = best_candidate\n",
    "    next_candidate = None\n",
    "    temperature = start_temperature\n",
    "    current_score = score(current_candidate)\n",
    "    best_score = score(best_candidate)\n",
    "    counter = 0\n",
    "    print(\"Initial score: %f\" % best_score)\n",
    "    print(\"Initial temperature: %f\" % temperature)\n",
    "    start_time = time()\n",
    "    while(temperature > t_min and best_score != 0):\n",
    "        counter += 1\n",
    "        next_candidate = modify_game(current_candidate)\n",
    "        next_score = score(next_candidate)\n",
    "        current_candidate, current_score = accept_neighbor(current_candidate, next_candidate, current_score, next_score, temperature)\n",
    "        total_evaluated += 1\n",
    "        if(current_score > best_score):\n",
    "            total_improvements += 1\n",
    "            counter = 0\n",
    "            best_candidate = current_candidate\n",
    "            best_score = current_score\n",
    "        if(counter == beta):\n",
    "            counter = 0\n",
    "            temperature = temperature*alpha\n",
    "            print(\"New temperature: %f, Improvements: %d, Best score: %f, Current score: %f\" % (temperature, total_improvements, best_score, current_score));\n",
    "\n",
    "    print('Final score: %f' % best_score)\n",
    "    print(\"Runtime: %d seconds\" % (time()-start_time))\n",
    "    print(\"Schedules evaluated per second: %f\" % (total_evaluated/(time()-start_time)))\n",
    "    print(\"Number of improving moves: %d\" % total_improvements)\n",
    "    print(best_candidate)\n",
    "    return best_candidate"
   ]
  },
  {
   "cell_type": "markdown",
   "metadata": {},
   "source": [
    "And give it a run:"
   ]
  },
  {
   "cell_type": "code",
   "execution_count": 25,
   "metadata": {},
   "outputs": [
    {
     "name": "stdout",
     "output_type": "stream",
     "text": [
      "Initial score: -34.200464\n",
      "Initial temperature: 0.100000\n",
      "New temperature: 0.099000, Improvements: 7, Best score: -0.067913, Current score: -0.067913\n",
      "New temperature: 0.098010, Improvements: 7, Best score: -0.067913, Current score: -0.067913\n",
      "New temperature: 0.097030, Improvements: 7, Best score: -0.067913, Current score: -0.067913\n",
      "New temperature: 0.096060, Improvements: 7, Best score: -0.067913, Current score: -0.117041\n",
      "New temperature: 0.095099, Improvements: 8, Best score: -0.066358, Current score: -0.113802\n",
      "New temperature: 0.094148, Improvements: 8, Best score: -0.066358, Current score: -0.113802\n",
      "New temperature: 0.093207, Improvements: 10, Best score: -0.055481, Current score: -0.055481\n",
      "New temperature: 0.092274, Improvements: 10, Best score: -0.055481, Current score: -0.055481\n",
      "New temperature: 0.091352, Improvements: 11, Best score: -0.045340, Current score: -0.133719\n",
      "New temperature: 0.090438, Improvements: 11, Best score: -0.045340, Current score: -0.216518\n",
      "New temperature: 0.089534, Improvements: 12, Best score: -0.021033, Current score: -0.021033\n",
      "New temperature: 0.088638, Improvements: 12, Best score: -0.021033, Current score: -0.021033\n",
      "New temperature: 0.087752, Improvements: 12, Best score: -0.021033, Current score: -0.292436\n",
      "New temperature: 0.086875, Improvements: 12, Best score: -0.021033, Current score: -0.188869\n",
      "New temperature: 0.086006, Improvements: 12, Best score: -0.021033, Current score: -0.271872\n",
      "New temperature: 0.085146, Improvements: 12, Best score: -0.021033, Current score: -0.058673\n",
      "New temperature: 0.084294, Improvements: 12, Best score: -0.021033, Current score: -0.058673\n",
      "New temperature: 0.083451, Improvements: 13, Best score: -0.012078, Current score: -0.012078\n",
      "New temperature: 0.082617, Improvements: 13, Best score: -0.012078, Current score: -0.012078\n",
      "New temperature: 0.081791, Improvements: 13, Best score: -0.012078, Current score: -0.012078\n",
      "New temperature: 0.080973, Improvements: 13, Best score: -0.012078, Current score: -0.012078\n",
      "New temperature: 0.080163, Improvements: 13, Best score: -0.012078, Current score: -0.041047\n",
      "New temperature: 0.079361, Improvements: 13, Best score: -0.012078, Current score: -0.041047\n",
      "New temperature: 0.078568, Improvements: 13, Best score: -0.012078, Current score: -0.210517\n",
      "New temperature: 0.077782, Improvements: 13, Best score: -0.012078, Current score: -0.188605\n",
      "New temperature: 0.077004, Improvements: 13, Best score: -0.012078, Current score: -0.056653\n",
      "New temperature: 0.076234, Improvements: 13, Best score: -0.012078, Current score: -0.056653\n",
      "New temperature: 0.075472, Improvements: 14, Best score: -0.011470, Current score: -0.011470\n",
      "New temperature: 0.074717, Improvements: 14, Best score: -0.011470, Current score: -0.011470\n",
      "New temperature: 0.073970, Improvements: 14, Best score: -0.011470, Current score: -0.011470\n",
      "New temperature: 0.073230, Improvements: 14, Best score: -0.011470, Current score: -0.011470\n",
      "New temperature: 0.072498, Improvements: 14, Best score: -0.011470, Current score: -0.011470\n",
      "New temperature: 0.071773, Improvements: 14, Best score: -0.011470, Current score: -0.011470\n",
      "New temperature: 0.071055, Improvements: 14, Best score: -0.011470, Current score: -0.011470\n",
      "New temperature: 0.070345, Improvements: 14, Best score: -0.011470, Current score: -0.011470\n",
      "New temperature: 0.069641, Improvements: 14, Best score: -0.011470, Current score: -0.011470\n",
      "New temperature: 0.068945, Improvements: 14, Best score: -0.011470, Current score: -0.011470\n",
      "New temperature: 0.068255, Improvements: 14, Best score: -0.011470, Current score: -0.011470\n",
      "New temperature: 0.067573, Improvements: 14, Best score: -0.011470, Current score: -0.011470\n",
      "New temperature: 0.066897, Improvements: 15, Best score: -0.004740, Current score: -0.004740\n",
      "New temperature: 0.066228, Improvements: 15, Best score: -0.004740, Current score: -0.212887\n",
      "New temperature: 0.065566, Improvements: 15, Best score: -0.004740, Current score: -0.030774\n",
      "New temperature: 0.064910, Improvements: 15, Best score: -0.004740, Current score: -0.013789\n",
      "New temperature: 0.064261, Improvements: 15, Best score: -0.004740, Current score: -0.013789\n",
      "New temperature: 0.063619, Improvements: 15, Best score: -0.004740, Current score: -0.091856\n",
      "New temperature: 0.062982, Improvements: 15, Best score: -0.004740, Current score: -0.091856\n",
      "New temperature: 0.062353, Improvements: 15, Best score: -0.004740, Current score: -0.096110\n",
      "New temperature: 0.061729, Improvements: 15, Best score: -0.004740, Current score: -0.096110\n",
      "New temperature: 0.061112, Improvements: 15, Best score: -0.004740, Current score: -0.122279\n",
      "New temperature: 0.060501, Improvements: 15, Best score: -0.004740, Current score: -0.122279\n",
      "New temperature: 0.059896, Improvements: 15, Best score: -0.004740, Current score: -0.141078\n",
      "New temperature: 0.059297, Improvements: 16, Best score: -0.000151, Current score: -0.000151\n",
      "New temperature: 0.058704, Improvements: 16, Best score: -0.000151, Current score: -0.000151\n",
      "New temperature: 0.058117, Improvements: 16, Best score: -0.000151, Current score: -0.000151\n",
      "New temperature: 0.057535, Improvements: 16, Best score: -0.000151, Current score: -0.000151\n",
      "New temperature: 0.056960, Improvements: 16, Best score: -0.000151, Current score: -0.000151\n",
      "New temperature: 0.056391, Improvements: 16, Best score: -0.000151, Current score: -0.000151\n",
      "New temperature: 0.055827, Improvements: 16, Best score: -0.000151, Current score: -0.000151\n",
      "New temperature: 0.055268, Improvements: 16, Best score: -0.000151, Current score: -0.000151\n",
      "New temperature: 0.054716, Improvements: 16, Best score: -0.000151, Current score: -0.089556\n",
      "New temperature: 0.054169, Improvements: 16, Best score: -0.000151, Current score: -0.088378\n",
      "New temperature: 0.053627, Improvements: 16, Best score: -0.000151, Current score: -0.088378\n",
      "New temperature: 0.053091, Improvements: 16, Best score: -0.000151, Current score: -0.088378\n",
      "New temperature: 0.052560, Improvements: 16, Best score: -0.000151, Current score: -0.088378\n",
      "New temperature: 0.052034, Improvements: 16, Best score: -0.000151, Current score: -0.088378\n",
      "New temperature: 0.051514, Improvements: 16, Best score: -0.000151, Current score: -0.221109\n",
      "New temperature: 0.050999, Improvements: 16, Best score: -0.000151, Current score: -0.003144\n",
      "New temperature: 0.050489, Improvements: 16, Best score: -0.000151, Current score: -0.024813\n",
      "New temperature: 0.049984, Improvements: 16, Best score: -0.000151, Current score: -0.024813\n",
      "New temperature: 0.049484, Improvements: 16, Best score: -0.000151, Current score: -0.005424\n",
      "New temperature: 0.048989, Improvements: 16, Best score: -0.000151, Current score: -0.005424\n",
      "New temperature: 0.048499, Improvements: 16, Best score: -0.000151, Current score: -0.005424\n",
      "New temperature: 0.048014, Improvements: 16, Best score: -0.000151, Current score: -0.005424\n",
      "New temperature: 0.047534, Improvements: 16, Best score: -0.000151, Current score: -0.005424\n",
      "New temperature: 0.047059, Improvements: 16, Best score: -0.000151, Current score: -0.005424\n",
      "New temperature: 0.046588, Improvements: 16, Best score: -0.000151, Current score: -0.005424\n",
      "New temperature: 0.046122, Improvements: 16, Best score: -0.000151, Current score: -0.005424\n",
      "New temperature: 0.045661, Improvements: 16, Best score: -0.000151, Current score: -0.005424\n",
      "New temperature: 0.045204, Improvements: 16, Best score: -0.000151, Current score: -0.005424\n",
      "New temperature: 0.044752, Improvements: 16, Best score: -0.000151, Current score: -0.005424\n",
      "New temperature: 0.044305, Improvements: 16, Best score: -0.000151, Current score: -0.005424\n",
      "New temperature: 0.043862, Improvements: 16, Best score: -0.000151, Current score: -0.005424\n",
      "New temperature: 0.043423, Improvements: 16, Best score: -0.000151, Current score: -0.005424\n",
      "New temperature: 0.042989, Improvements: 16, Best score: -0.000151, Current score: -0.005424\n",
      "New temperature: 0.042559, Improvements: 16, Best score: -0.000151, Current score: -0.005424\n",
      "New temperature: 0.042133, Improvements: 16, Best score: -0.000151, Current score: -0.005424\n",
      "New temperature: 0.041712, Improvements: 16, Best score: -0.000151, Current score: -0.005424\n",
      "New temperature: 0.041295, Improvements: 16, Best score: -0.000151, Current score: -0.005424\n"
     ]
    },
    {
     "name": "stdout",
     "output_type": "stream",
     "text": [
      "New temperature: 0.040882, Improvements: 16, Best score: -0.000151, Current score: -0.020358\n",
      "New temperature: 0.040473, Improvements: 16, Best score: -0.000151, Current score: -0.103703\n",
      "New temperature: 0.040068, Improvements: 16, Best score: -0.000151, Current score: -0.055219\n",
      "New temperature: 0.039668, Improvements: 16, Best score: -0.000151, Current score: -0.055219\n",
      "New temperature: 0.039271, Improvements: 16, Best score: -0.000151, Current score: -0.055055\n",
      "New temperature: 0.038878, Improvements: 16, Best score: -0.000151, Current score: -0.055055\n",
      "New temperature: 0.038490, Improvements: 16, Best score: -0.000151, Current score: -0.055055\n",
      "New temperature: 0.038105, Improvements: 16, Best score: -0.000151, Current score: -0.055055\n",
      "New temperature: 0.037724, Improvements: 16, Best score: -0.000151, Current score: -0.055055\n",
      "New temperature: 0.037346, Improvements: 16, Best score: -0.000151, Current score: -0.078169\n",
      "New temperature: 0.036973, Improvements: 16, Best score: -0.000151, Current score: -0.078169\n",
      "New temperature: 0.036603, Improvements: 16, Best score: -0.000151, Current score: -0.070208\n",
      "New temperature: 0.036237, Improvements: 16, Best score: -0.000151, Current score: -0.070208\n",
      "New temperature: 0.035875, Improvements: 16, Best score: -0.000151, Current score: -0.070208\n",
      "New temperature: 0.035516, Improvements: 16, Best score: -0.000151, Current score: -0.070208\n",
      "New temperature: 0.035161, Improvements: 16, Best score: -0.000151, Current score: -0.070208\n",
      "New temperature: 0.034809, Improvements: 16, Best score: -0.000151, Current score: -0.070208\n",
      "New temperature: 0.034461, Improvements: 16, Best score: -0.000151, Current score: -0.070208\n",
      "New temperature: 0.034117, Improvements: 16, Best score: -0.000151, Current score: -0.081630\n",
      "New temperature: 0.033775, Improvements: 16, Best score: -0.000151, Current score: -0.016171\n",
      "New temperature: 0.033438, Improvements: 16, Best score: -0.000151, Current score: -0.016171\n",
      "New temperature: 0.033103, Improvements: 16, Best score: -0.000151, Current score: -0.016171\n",
      "New temperature: 0.032772, Improvements: 16, Best score: -0.000151, Current score: -0.016171\n",
      "New temperature: 0.032445, Improvements: 16, Best score: -0.000151, Current score: -0.016171\n",
      "New temperature: 0.032120, Improvements: 16, Best score: -0.000151, Current score: -0.016171\n",
      "New temperature: 0.031799, Improvements: 16, Best score: -0.000151, Current score: -0.016171\n",
      "New temperature: 0.031481, Improvements: 16, Best score: -0.000151, Current score: -0.016171\n",
      "New temperature: 0.031166, Improvements: 16, Best score: -0.000151, Current score: -0.016171\n",
      "New temperature: 0.030854, Improvements: 16, Best score: -0.000151, Current score: -0.016171\n",
      "New temperature: 0.030546, Improvements: 16, Best score: -0.000151, Current score: -0.018192\n",
      "New temperature: 0.030240, Improvements: 16, Best score: -0.000151, Current score: -0.018192\n",
      "New temperature: 0.029938, Improvements: 16, Best score: -0.000151, Current score: -0.018192\n",
      "New temperature: 0.029639, Improvements: 16, Best score: -0.000151, Current score: -0.018192\n",
      "New temperature: 0.029342, Improvements: 16, Best score: -0.000151, Current score: -0.018192\n",
      "New temperature: 0.029049, Improvements: 16, Best score: -0.000151, Current score: -0.018192\n",
      "New temperature: 0.028758, Improvements: 16, Best score: -0.000151, Current score: -0.056893\n",
      "New temperature: 0.028471, Improvements: 16, Best score: -0.000151, Current score: -0.056893\n",
      "New temperature: 0.028186, Improvements: 16, Best score: -0.000151, Current score: -0.056893\n",
      "New temperature: 0.027904, Improvements: 16, Best score: -0.000151, Current score: -0.056893\n",
      "New temperature: 0.027625, Improvements: 16, Best score: -0.000151, Current score: -0.056893\n",
      "New temperature: 0.027349, Improvements: 16, Best score: -0.000151, Current score: -0.021138\n",
      "New temperature: 0.027075, Improvements: 16, Best score: -0.000151, Current score: -0.021138\n",
      "New temperature: 0.026805, Improvements: 16, Best score: -0.000151, Current score: -0.021138\n",
      "New temperature: 0.026537, Improvements: 16, Best score: -0.000151, Current score: -0.021138\n",
      "New temperature: 0.026271, Improvements: 16, Best score: -0.000151, Current score: -0.021138\n",
      "New temperature: 0.026009, Improvements: 16, Best score: -0.000151, Current score: -0.021138\n",
      "New temperature: 0.025748, Improvements: 16, Best score: -0.000151, Current score: -0.021138\n",
      "New temperature: 0.025491, Improvements: 16, Best score: -0.000151, Current score: -0.021138\n",
      "New temperature: 0.025236, Improvements: 16, Best score: -0.000151, Current score: -0.021138\n",
      "New temperature: 0.024984, Improvements: 16, Best score: -0.000151, Current score: -0.021138\n",
      "New temperature: 0.024734, Improvements: 16, Best score: -0.000151, Current score: -0.021138\n",
      "New temperature: 0.024487, Improvements: 16, Best score: -0.000151, Current score: -0.021138\n",
      "New temperature: 0.024242, Improvements: 16, Best score: -0.000151, Current score: -0.021138\n",
      "New temperature: 0.023999, Improvements: 16, Best score: -0.000151, Current score: -0.021138\n",
      "New temperature: 0.023759, Improvements: 16, Best score: -0.000151, Current score: -0.021138\n",
      "New temperature: 0.023522, Improvements: 16, Best score: -0.000151, Current score: -0.021138\n",
      "New temperature: 0.023286, Improvements: 16, Best score: -0.000151, Current score: -0.021138\n",
      "New temperature: 0.023054, Improvements: 16, Best score: -0.000151, Current score: -0.021138\n",
      "New temperature: 0.022823, Improvements: 16, Best score: -0.000151, Current score: -0.021138\n",
      "New temperature: 0.022595, Improvements: 16, Best score: -0.000151, Current score: -0.021138\n",
      "New temperature: 0.022369, Improvements: 16, Best score: -0.000151, Current score: -0.021138\n",
      "New temperature: 0.022145, Improvements: 16, Best score: -0.000151, Current score: -0.021138\n",
      "New temperature: 0.021924, Improvements: 16, Best score: -0.000151, Current score: -0.021138\n",
      "New temperature: 0.021704, Improvements: 16, Best score: -0.000151, Current score: -0.021138\n",
      "New temperature: 0.021487, Improvements: 16, Best score: -0.000151, Current score: -0.021138\n",
      "New temperature: 0.021273, Improvements: 16, Best score: -0.000151, Current score: -0.021138\n",
      "New temperature: 0.021060, Improvements: 16, Best score: -0.000151, Current score: -0.021138\n",
      "New temperature: 0.020849, Improvements: 16, Best score: -0.000151, Current score: -0.021138\n",
      "New temperature: 0.020641, Improvements: 16, Best score: -0.000151, Current score: -0.021138\n",
      "New temperature: 0.020434, Improvements: 16, Best score: -0.000151, Current score: -0.021138\n",
      "New temperature: 0.020230, Improvements: 16, Best score: -0.000151, Current score: -0.021138\n",
      "New temperature: 0.020028, Improvements: 16, Best score: -0.000151, Current score: -0.021138\n",
      "New temperature: 0.019827, Improvements: 16, Best score: -0.000151, Current score: -0.021138\n",
      "New temperature: 0.019629, Improvements: 16, Best score: -0.000151, Current score: -0.021138\n",
      "New temperature: 0.019433, Improvements: 16, Best score: -0.000151, Current score: -0.021138\n",
      "New temperature: 0.019239, Improvements: 16, Best score: -0.000151, Current score: -0.025630\n",
      "New temperature: 0.019046, Improvements: 16, Best score: -0.000151, Current score: -0.025630\n",
      "New temperature: 0.018856, Improvements: 16, Best score: -0.000151, Current score: -0.025630\n",
      "New temperature: 0.018667, Improvements: 16, Best score: -0.000151, Current score: -0.025630\n",
      "New temperature: 0.018480, Improvements: 16, Best score: -0.000151, Current score: -0.025630\n",
      "New temperature: 0.018296, Improvements: 16, Best score: -0.000151, Current score: -0.025630\n",
      "New temperature: 0.018113, Improvements: 16, Best score: -0.000151, Current score: -0.014554\n",
      "New temperature: 0.017932, Improvements: 16, Best score: -0.000151, Current score: -0.014554\n",
      "New temperature: 0.017752, Improvements: 16, Best score: -0.000151, Current score: -0.026083\n",
      "New temperature: 0.017575, Improvements: 16, Best score: -0.000151, Current score: -0.026083\n",
      "New temperature: 0.017399, Improvements: 16, Best score: -0.000151, Current score: -0.026083\n",
      "New temperature: 0.017225, Improvements: 16, Best score: -0.000151, Current score: -0.009534\n",
      "New temperature: 0.017053, Improvements: 16, Best score: -0.000151, Current score: -0.009534\n",
      "New temperature: 0.016882, Improvements: 16, Best score: -0.000151, Current score: -0.009534\n"
     ]
    },
    {
     "name": "stdout",
     "output_type": "stream",
     "text": [
      "New temperature: 0.016713, Improvements: 16, Best score: -0.000151, Current score: -0.009534\n",
      "New temperature: 0.016546, Improvements: 16, Best score: -0.000151, Current score: -0.009534\n",
      "New temperature: 0.016381, Improvements: 16, Best score: -0.000151, Current score: -0.009534\n",
      "New temperature: 0.016217, Improvements: 16, Best score: -0.000151, Current score: -0.009534\n",
      "New temperature: 0.016055, Improvements: 16, Best score: -0.000151, Current score: -0.009534\n",
      "New temperature: 0.015894, Improvements: 16, Best score: -0.000151, Current score: -0.009534\n",
      "New temperature: 0.015735, Improvements: 16, Best score: -0.000151, Current score: -0.009534\n",
      "New temperature: 0.015578, Improvements: 16, Best score: -0.000151, Current score: -0.009534\n",
      "New temperature: 0.015422, Improvements: 16, Best score: -0.000151, Current score: -0.009534\n",
      "New temperature: 0.015268, Improvements: 16, Best score: -0.000151, Current score: -0.009534\n",
      "New temperature: 0.015115, Improvements: 16, Best score: -0.000151, Current score: -0.009534\n",
      "New temperature: 0.014964, Improvements: 16, Best score: -0.000151, Current score: -0.009534\n",
      "New temperature: 0.014814, Improvements: 16, Best score: -0.000151, Current score: -0.009534\n",
      "New temperature: 0.014666, Improvements: 16, Best score: -0.000151, Current score: -0.009534\n",
      "New temperature: 0.014520, Improvements: 16, Best score: -0.000151, Current score: -0.009534\n",
      "New temperature: 0.014374, Improvements: 16, Best score: -0.000151, Current score: -0.009534\n",
      "New temperature: 0.014231, Improvements: 16, Best score: -0.000151, Current score: -0.009534\n",
      "New temperature: 0.014088, Improvements: 16, Best score: -0.000151, Current score: -0.009534\n",
      "New temperature: 0.013948, Improvements: 16, Best score: -0.000151, Current score: -0.009534\n",
      "New temperature: 0.013808, Improvements: 16, Best score: -0.000151, Current score: -0.009534\n",
      "New temperature: 0.013670, Improvements: 16, Best score: -0.000151, Current score: -0.009534\n",
      "New temperature: 0.013533, Improvements: 16, Best score: -0.000151, Current score: -0.009534\n",
      "New temperature: 0.013398, Improvements: 16, Best score: -0.000151, Current score: -0.009534\n",
      "New temperature: 0.013264, Improvements: 16, Best score: -0.000151, Current score: -0.009534\n",
      "New temperature: 0.013131, Improvements: 16, Best score: -0.000151, Current score: -0.009534\n",
      "New temperature: 0.013000, Improvements: 16, Best score: -0.000151, Current score: -0.009534\n",
      "New temperature: 0.012870, Improvements: 16, Best score: -0.000151, Current score: -0.003535\n",
      "New temperature: 0.012741, Improvements: 16, Best score: -0.000151, Current score: -0.003535\n",
      "New temperature: 0.012614, Improvements: 16, Best score: -0.000151, Current score: -0.003535\n",
      "New temperature: 0.012488, Improvements: 16, Best score: -0.000151, Current score: -0.003535\n",
      "New temperature: 0.012363, Improvements: 16, Best score: -0.000151, Current score: -0.003535\n",
      "New temperature: 0.012239, Improvements: 16, Best score: -0.000151, Current score: -0.003535\n",
      "New temperature: 0.012117, Improvements: 16, Best score: -0.000151, Current score: -0.003535\n",
      "New temperature: 0.011996, Improvements: 16, Best score: -0.000151, Current score: -0.003535\n",
      "New temperature: 0.011876, Improvements: 16, Best score: -0.000151, Current score: -0.003535\n",
      "New temperature: 0.011757, Improvements: 16, Best score: -0.000151, Current score: -0.003535\n",
      "New temperature: 0.011639, Improvements: 16, Best score: -0.000151, Current score: -0.003535\n",
      "New temperature: 0.011523, Improvements: 16, Best score: -0.000151, Current score: -0.003535\n",
      "New temperature: 0.011408, Improvements: 16, Best score: -0.000151, Current score: -0.003535\n",
      "New temperature: 0.011294, Improvements: 16, Best score: -0.000151, Current score: -0.003535\n",
      "New temperature: 0.011181, Improvements: 16, Best score: -0.000151, Current score: -0.003535\n",
      "New temperature: 0.011069, Improvements: 16, Best score: -0.000151, Current score: -0.003535\n",
      "New temperature: 0.010958, Improvements: 16, Best score: -0.000151, Current score: -0.003535\n",
      "New temperature: 0.010849, Improvements: 16, Best score: -0.000151, Current score: -0.003535\n",
      "New temperature: 0.010740, Improvements: 16, Best score: -0.000151, Current score: -0.003535\n",
      "New temperature: 0.010633, Improvements: 16, Best score: -0.000151, Current score: -0.005936\n",
      "New temperature: 0.010526, Improvements: 16, Best score: -0.000151, Current score: -0.005936\n",
      "New temperature: 0.010421, Improvements: 16, Best score: -0.000151, Current score: -0.005936\n",
      "New temperature: 0.010317, Improvements: 16, Best score: -0.000151, Current score: -0.005936\n",
      "New temperature: 0.010214, Improvements: 16, Best score: -0.000151, Current score: -0.005936\n",
      "New temperature: 0.010112, Improvements: 16, Best score: -0.000151, Current score: -0.005936\n",
      "New temperature: 0.010011, Improvements: 16, Best score: -0.000151, Current score: -0.005936\n",
      "New temperature: 0.009910, Improvements: 16, Best score: -0.000151, Current score: -0.005936\n",
      "Final score: -0.000151\n",
      "Runtime: 81 seconds\n",
      "Schedules evaluated per second: 287.369513\n",
      "Number of improving moves: 16\n",
      "[[80, 6], [89, 92], [65, 71], [93, 36], [28, 3], [2, 69], [54, 88], [99, 25], [15, 38], [97, 98]]\n"
     ]
    }
   ],
   "source": [
    "mygame = [[4,14],[12,25],[20,35],[28,45],[27,47],[63,56],[73,66],[83,76],[93,86],[98,91]]\n",
    "\n",
    "solution = simulated_annealing(mygame, 0.1, 0.01, 0.99, 100)"
   ]
  },
  {
   "cell_type": "markdown",
   "metadata": {},
   "source": [
    "Let's verify the result:"
   ]
  },
  {
   "cell_type": "code",
   "execution_count": 26,
   "metadata": {},
   "outputs": [
    {
     "name": "stdout",
     "output_type": "stream",
     "text": [
      "66.97885561478508\n"
     ]
    }
   ],
   "source": [
    "print(calculate_expected_num_attempts(solution))"
   ]
  },
  {
   "cell_type": "markdown",
   "metadata": {},
   "source": [
    "Pretty good for a \"simple\" approach. But unfortunately it \"doesn't cut the mustard\" as my friend B would say in such situations. I made this a bit more sophistaced, chose the neighborhoods more strategically and added reheats. The accuracy quickly improved to about e-5, but that was it. Even after running it for a whole day it did not find a solution that satisfied the criteria. Obviously, there must be a better way of doing this. Alternatively, I could imagine formulating the expected number of attempts as linear equations. This would result in a large system of linear equations that could be solved for the expected number of attempts to get to the last square. Once we have a formula, we could use Gurobi/ Cplex/ Cpoptimizer to determine where the ladders/ snakes should be located. Unfortunately, it is not easy to solve for this variable. Even a system with just 10 squares takes really long to solve using Matlab and the formula is really long. The 100 square system could not be solved in a reasonable amount of time. Unfortunately, I didn't have more time to spend on this, so I finish this challenge unsolved, with a solution that is close to what is required, but not close enough."
   ]
  },
  {
   "cell_type": "code",
   "execution_count": null,
   "metadata": {},
   "outputs": [],
   "source": []
  }
 ],
 "metadata": {
  "kernelspec": {
   "display_name": "Python 3",
   "language": "python",
   "name": "python3"
  },
  "language_info": {
   "codemirror_mode": {
    "name": "ipython",
    "version": 3
   },
   "file_extension": ".py",
   "mimetype": "text/x-python",
   "name": "python",
   "nbconvert_exporter": "python",
   "pygments_lexer": "ipython3",
   "version": "3.7.5"
  }
 },
 "nbformat": 4,
 "nbformat_minor": 4
}
