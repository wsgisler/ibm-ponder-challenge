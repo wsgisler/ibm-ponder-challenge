{
 "cells": [
  {
   "cell_type": "markdown",
   "metadata": {},
   "source": [
    "# IBM Ponder This - June 2020 - Challenge\n",
    "\n",
    "by Walter Sebastian Gisler\n",
    "\n",
    "## Problem Description\n",
    "\n",
    "This is the 278th Ponder This monthly challenge. If you sum the divisors of 278 (excluding itself), you get 142, which is the number of challenges I wrote for IBM's puzzle corner. There are 138 natural numbers that are smaller than 278 and relatively prime to it. 138 is also the number of challenges our best solver to date, Daniel Bitin, has correctly solved.\n",
    "\n",
    "Your challenge is to find a number whose sum of divisors (excluding itself) is 12,142,680,281,284,711,468,101,282,998,309,016,699,980,172 and exactly 3,031,634,148,236,289,733,373,855,928,919,180,891,127,808 out of the natural numbers that are smaller than it are relatively prime to it.\n",
    "\n",
    "Source: https://www.research.ibm.com/haifa/ponderthis/challenges/June2020.html\n",
    "\n",
    "## Before I even start...\n",
    "\n",
    "This was a really tough one for me. But also extremely exciting and it gave me an opportunity to read up about some topics in number theory. I started with a dumb approach, realized it wouldn't work, made it more efficient (to an extent that it was blazing fast for smaller, but still large numbers) just to realize that the number of possibilities I had to check was still way to big. I probably improved the performance of the initial approach by $10^6$ over a couple of days, if not even more. Not an optimization problem, but it has lot in common with difficult constrained problems in reality: too hard to enumerate all possible candidates so there needs to be smart reasoning to ignore areas of the solution space that can be ignored. Given that some people solved this in just 2 or 3 days after the problem was published, I assume that there are still more ways to speed this up that I didn't see or that there is an approach that is a lot smarter than mine.\n",
    "\n",
    "## Towards a solution\n",
    "\n",
    "Let's first start by importing some packages and methods that might come in handy:"
   ]
  },
  {
   "cell_type": "code",
   "execution_count": 1,
   "metadata": {},
   "outputs": [],
   "source": [
    "from functools import reduce\n",
    "from sympy import factorint\n",
    "from sympy.ntheory import totient\n",
    "from math import sqrt\n",
    "from random import shuffle\n",
    "from math import log, gcd\n",
    "from time import time\n",
    "from sympy.ntheory import isprime as is_prime\n",
    "from sympy import divisors as get_divisors"
   ]
  },
  {
   "cell_type": "markdown",
   "metadata": {},
   "source": [
    "After that, I defined methods to get the factors and the divisors of a number. As you can see, I was optimistic, that this would not be too hard and didn't want to use the more efficient methods that sympy or sage offers. I'll post them here, but later on replaced them by the sympy methods:"
   ]
  },
  {
   "cell_type": "code",
   "execution_count": 2,
   "metadata": {},
   "outputs": [],
   "source": [
    "def get_factors(n):    \n",
    "    return list(factorint(n).items())\n",
    "\n",
    "# def get_divisors(n):\n",
    "#     factors = get_factors(n)\n",
    "#     nfactors = len(factors)\n",
    "#     f = [0] * nfactors\n",
    "#     while True:\n",
    "#         yield reduce(lambda x, y: x*y, [factors[x][0]**f[x] for x in range(nfactors)], 1)\n",
    "#         i = 0\n",
    "#         while True:\n",
    "#             f[i] += 1\n",
    "#             if f[i] <= factors[i][1]:\n",
    "#                 break\n",
    "#             f[i] = 0\n",
    "#             i += 1\n",
    "#             if i >= nfactors:\n",
    "#                 return"
   ]
  },
  {
   "cell_type": "markdown",
   "metadata": {},
   "source": [
    "At the very beginning, I was just plotting the values of the divisors (excluding itself) for different numbers and also the number of smaller numbers that are relatively prime to it for different numbers to see if there was any pattern that I could make out:"
   ]
  },
  {
   "cell_type": "code",
   "execution_count": 3,
   "metadata": {},
   "outputs": [
    {
     "name": "stdout",
     "output_type": "stream",
     "text": [
      "1\n",
      "2\n",
      "2\n",
      "4\n",
      "2\n",
      "6\n",
      "4\n",
      "6\n",
      "4\n",
      "10\n",
      "4\n",
      "12\n",
      "6\n",
      "8\n",
      "8\n",
      "16\n",
      "6\n",
      "18\n"
     ]
    },
    {
     "data": {
      "image/png": "[encoded data removed]",
      "text/plain": [
       "<Figure size 432x288 with 1 Axes>"
      ]
     },
     "metadata": {
      "needs_background": "light"
     },
     "output_type": "display_data"
    }
   ],
   "source": [
    "from matplotlib.pyplot import scatter\n",
    "\n",
    "x = []\n",
    "y = []\n",
    "\n",
    "for i in range(2,400):\n",
    "    num_coprimes = 0\n",
    "    for j in range(1, i):\n",
    "        if gcd(j,i) == 1:\n",
    "            num_coprimes += 1\n",
    "    x.append(i)\n",
    "    y.append(num_coprimes)\n",
    "    if i < 20:\n",
    "        print(num_coprimes)\n",
    "    \n",
    "plot = scatter(x, y)"
   ]
  },
  {
   "cell_type": "markdown",
   "metadata": {},
   "source": [
    "Great! These numbers are on lines, so I just have to identify the lines and search the areas around them. Well, not so easy, it turns out, but that was my initial thought.\n",
    "\n",
    "By now, I know that it is a good idea to look up number sequences in the OEIS, and that's just what I did: [OEIS; Euler Totient Function](https://oeis.org/search?q=1+2+2+4+2+6+4+6+4+10+4+12+6+8+8+16+6+18&sort=&language=english&go=Search)\n",
    "\n",
    "Great, after that I knew which direction to look at and what papers to read and I also new, that what I had just implemented by hand had been done more efficiently by others and that there was a formula for it.\n",
    "\n",
    "I did a similar search for the sum of divisors excluding the number itself, and found that the sum of divisors of a number is called *divisor sigma* and that the sum of divisors excluding itself is called *sum of proper divisors* or *sum of aliquot parts*.\n",
    "\n",
    "### Calculating the Euler-Phi\n",
    "\n",
    "Turns out, if you manage to factorize a number $N$, there is a simple formula to calculate the Euler Phi:\n",
    "\n",
    "$N = p_1^{a_1} p_2^{a_2}  p_3^{a_3}  p_4^{a_4} \\dots p_k^{a_k} $ \n",
    "\n",
    "The Euler Phi can then be calculated as follows:\n",
    "\n",
    "$\\phi(N) = p_1^{a_{1}-1}(p_{1}-1) p_2^{a_2-1}(p_2-1) p_3^{a_3-1}(p_3-1) p_4^{a_4-1}(p_4-1) \\dots p_1^{a_k-1}(p_1-1) $\n",
    "\n",
    "That means, if we have the factors of a number, we can calculate it's totient function immediately. Factoring numbers in the range of the value that we were searching for is not a problem, so getting there totient function is absolutely possible.\n",
    "\n",
    "### Applying this to the problem\n",
    "\n",
    "Here, we were given the value of the Euler Phi, namely 3031634148236289733373855928919180891127808 and we had to find a matching number that would yield that Phi.\n",
    "\n",
    "Applying the above, we can conclude, that if we manage to write the number as it's divisors, and each divisor can be expressed through a prime number and a factor as follows $p_1^{a_k-1}(p_1-1)$, we are able to reconstruct the initial $N$.\n",
    "\n",
    "Example:\n",
    "\n",
    "Let's assume we are given a $ \\phi = 108 $\n",
    "\n",
    "This can be written as $18 * 6$, which can be expressed using prime factors as follows; $ 3^{3-1}(3-1) * 7^{1-1}(7-1)$\n",
    "\n",
    "If we have this formulation, we can conclude that the number that yields an Euler Phi of 108 is equal to $3^3*7 = 189$\n",
    "\n",
    "There are often different solutions to this, for example, 108 can also be written as follows:\n",
    "\n",
    "$108 = 2^{1-1}(2-1) * 109^{1-1}(109-1) = 1 * 108$ and hence, $2*109 = 218$ is a second solution to the inverse Euler Phi problem.\n",
    "\n",
    "Wolfram Alpha was incredibly helpful as I tried to reconstruct how this works. Wolfram Alpha can solve inverse Euler Phi problem for some smaller numbers, for example:\n",
    "\n",
    "[Inverse Euler Phi of 108](https://www.wolframalpha.com/input/?i=eulerphi%28x%29+%3D+108)\n",
    "\n",
    "Basically, it is clear how to find the inverse Euler Phi for any number $N$:\n",
    "\n",
    "1. Find all of the divisors of $N$\n",
    "2. For each divisor $D$, find all possible representations using prime factors $p^a$ such that $ D = p^{a-1}(p-1) $\n",
    "3. Then, find all possible combinations of divisors (that can be expressed using prime factors) that yield $N$\n",
    "\n",
    "Finding the *prime factor representation*, which I will call PR-Form of a number is relatively easy once you know it's factors. You can simply apply a logarithm:"
   ]
  },
  {
   "cell_type": "code",
   "execution_count": 4,
   "metadata": {},
   "outputs": [],
   "source": [
    "def get_p_r_form(n):\n",
    "    results = []\n",
    "    factors = get_factors(n)\n",
    "    for p,m in factors:\n",
    "        rm1 = log(n/(p-1), p)\n",
    "        r = rm1+1\n",
    "        if int(r) == r:\n",
    "            results += [(int(p),int(r))]\n",
    "    if n > 1 and is_prime(n+1):\n",
    "        results += [(n+1,1)]\n",
    "    return [(0,0)] if len(results) == 0 else results"
   ]
  },
  {
   "cell_type": "markdown",
   "metadata": {},
   "source": [
    "We can test this for 18, which was one of the divisors of 108:"
   ]
  },
  {
   "cell_type": "code",
   "execution_count": 5,
   "metadata": {},
   "outputs": [
    {
     "data": {
      "text/plain": [
       "[(3, 3), (19, 1)]"
      ]
     },
     "execution_count": 5,
     "metadata": {},
     "output_type": "execute_result"
    }
   ],
   "source": [
    "get_p_r_form(18)"
   ]
  },
  {
   "cell_type": "markdown",
   "metadata": {},
   "source": [
    "This works great already but if we have to calculate the PR-Form for many numbers, espescially large ones, we are repeating a lot of the same calculations. I therefore decided to add a cached version of the method:"
   ]
  },
  {
   "cell_type": "code",
   "execution_count": 6,
   "metadata": {},
   "outputs": [],
   "source": [
    "prform_cache = dict()\n",
    "\n",
    "def get_p_r_form_cached(n):\n",
    "    if n in prform_cache:\n",
    "        return prform_cache[n]\n",
    "    results = []\n",
    "    factors = get_factors(n)\n",
    "    for p,m in factors:\n",
    "        rm1 = log(n/(p-1), p)\n",
    "        r = rm1+1\n",
    "        if int(r) == r:\n",
    "            results += [(int(p),int(r))]\n",
    "    if n > 1 and is_prime(n+1):\n",
    "        results += [(n+1,1)]\n",
    "    results = [(0,0)] if len(results) == 0 else results\n",
    "    prform_cache[n] = results\n",
    "    return results"
   ]
  },
  {
   "cell_type": "markdown",
   "metadata": {},
   "source": [
    "This now allows us to define a method to find the inverse Euler Phi of a number:"
   ]
  },
  {
   "cell_type": "code",
   "execution_count": 7,
   "metadata": {},
   "outputs": [],
   "source": [
    "def inverse_eulerphi(phi, prs = dict()):\n",
    "    divisors = get_divisors(phi)\n",
    "    result = set()\n",
    "    if phi == 1:\n",
    "        res = set()\n",
    "        if 1 not in prs.keys():\n",
    "            res.add(1)\n",
    "        if 2 not in prs.keys():\n",
    "            res.add(2)\n",
    "        return res\n",
    "    for div in divisors:\n",
    "        prforms = get_p_r_form(div)\n",
    "        for p,r in prforms:\n",
    "            if p != 0 and p not in prs.keys():\n",
    "                remainder = int(phi//div)\n",
    "                new_prs = {**prs, **{p:r}}\n",
    "                phis = inverse_eulerphi(remainder, new_prs)\n",
    "                result = result.union({p**r*phi for phi in phis})\n",
    "    return result"
   ]
  },
  {
   "cell_type": "markdown",
   "metadata": {},
   "source": [
    "Let's test with 108:"
   ]
  },
  {
   "cell_type": "code",
   "execution_count": 8,
   "metadata": {},
   "outputs": [
    {
     "data": {
      "text/plain": [
       "{109, 133, 171, 189, 218, 266, 324, 342, 378}"
      ]
     },
     "execution_count": 8,
     "metadata": {},
     "output_type": "execute_result"
    }
   ],
   "source": [
    "inverse_eulerphi(108)"
   ]
  },
  {
   "cell_type": "markdown",
   "metadata": {},
   "source": [
    "This works, and returns the same result as Wolfram Alpha. However, it quickly turned out that this would not be anywhere near fast enough for what we were going to do, I therefore defined a faster method, that uses caching, and passes the possible next divisors further when it is calling itself:"
   ]
  },
  {
   "cell_type": "code",
   "execution_count": 9,
   "metadata": {},
   "outputs": [],
   "source": [
    "# cached prform\n",
    "# predetermined divisors\n",
    "def faster_inverse_eulerphi(phi, prs = dict(), original_n = 0, target_divisor_sum = 0, divisor_candidates = []):\n",
    "    if phi != 1 and phi%2 == 1:\n",
    "        return set()\n",
    "    if phi == 1:\n",
    "        res = set()\n",
    "        if 1 not in prs.keys():\n",
    "            res.add(1)\n",
    "        if 2 not in prs.keys():\n",
    "            res.add(2)\n",
    "        return res\n",
    "    divisors = divisor_candidates if divisor_candidates else [int(d) for d in get_divisors(phi)]\n",
    "    shuffle(divisors)\n",
    "    result = set()\n",
    "    for div in divisors:\n",
    "        if div >= sqrt(phi): # Careful with this; it speeds up the progress enormously, but I am not 100% sure if it generates all solutions\n",
    "            prforms = get_p_r_form_cached(div)\n",
    "            prspart = 1\n",
    "            for k,v in prs.items():\n",
    "                prspart*k**v\n",
    "            for p,r in prforms:\n",
    "                if p != 0 and p not in prs.keys():\n",
    "                    remainder = int(phi//div)\n",
    "                    new_divisors = [d for d in divisors if (d != div or len(prforms) > 1) and remainder%d == 0]\n",
    "                    new_prs = {**prs, **{p:r}}\n",
    "                    phis = faster_inverse_eulerphi(remainder, new_prs, original_n, target_divisor_sum, new_divisors)\n",
    "                    result = result.union({p**r*phi for phi in phis})\n",
    "    return result"
   ]
  },
  {
   "cell_type": "markdown",
   "metadata": {},
   "source": [
    "We can test this with a substantially larger number. Let's also time it:"
   ]
  },
  {
   "cell_type": "code",
   "execution_count": 10,
   "metadata": {},
   "outputs": [
    {
     "name": "stdout",
     "output_type": "stream",
     "text": [
      "{32880439272373615582214725, 86804359679066345137046874, 52546774366672285828819084, 65760878544747231164429450, 39410080775004214371614313, 43402179839533172568523437, 57869573119377563424697916, 78820161550008428743228626}\n",
      "Took 27.284090 seconds\n",
      "{32880439272373615582214725, 86804359679066345137046874, 65760878544747231164429450, 39410080775004214371614313, 78820161550008428743228626, 43402179839533172568523437, 57869573119377563424697916, 52546774366672285828819084}\n",
      "Took 0.260899 seconds\n"
     ]
    }
   ],
   "source": [
    "n = 26272999389987213213710000\n",
    "\n",
    "st = time()\n",
    "res = inverse_eulerphi(n)\n",
    "print(res)\n",
    "print('Took %f seconds'%(time()-st))\n",
    "\n",
    "st = time()\n",
    "res = faster_inverse_eulerphi(n)\n",
    "print(res)\n",
    "print('Took %f seconds'%(time()-st))"
   ]
  },
  {
   "cell_type": "markdown",
   "metadata": {},
   "source": [
    "As expected, the two methods both return the same solutions, which can also be verified using Wolfram Alpha, but the second method is about 100 times faster than the first one. Unfortunately, the second method is still far from capable of solving the problem using the number suggested by IBM.\n",
    "\n",
    "There are some inefficiencies in always recalculating the divisors and the PR-Form. It turns out, we can prepare all of this ahead of time and also prepare the factors that make up the Euler Phi, the number itself and even the divisor sum:"
   ]
  },
  {
   "cell_type": "code",
   "execution_count": 11,
   "metadata": {},
   "outputs": [
    {
     "name": "stdout",
     "output_type": "stream",
     "text": [
      "[(2, 1, 2, 1, 3), (2, 2, 4, 2, 7), (3, 1, 3, 2, 4), (2, 3, 8, 4, 15), (5, 1, 5, 4, 6), (2, 4, 16, 8, 31), (11, 1, 11, 10, 12), (2, 5, 32, 16, 63), (17, 1, 17, 16, 18), (5, 2, 25, 20, 31), (41, 1, 41, 40, 42), (5, 3, 125, 100, 156), (101, 1, 101, 100, 102), (251, 1, 251, 250, 252), (401, 1, 401, 400, 402), (5, 4, 625, 500, 781), (839, 1, 839, 838, 840), (5, 5, 3125, 2500, 3906), (2711, 1, 2711, 2710, 2712), (4337, 1, 4337, 4336, 4338), (33521, 1, 33521, 33520, 33522), (67751, 1, 67751, 67750, 67752), (108401, 1, 108401, 108400, 108402), (2270981, 1, 2270981, 2270980, 2270982), (165971501, 1, 165971501, 165971500, 165971502), (567745001, 1, 567745001, 567745000, 567745002), (663886001, 1, 663886001, 663886000, 663886002), (1390841171, 1, 1390841171, 1390841170, 1390841172), (44978276501, 1, 44978276501, 44978276500, 44978276502), (55633646801, 1, 55633646801, 55633646800, 55633646802), (112445691251, 1, 112445691251, 112445691250, 112445691252), (139084117001, 1, 139084117001, 139084117000, 139084117002), (179913106001, 1, 179913106001, 179913106000, 179913106002), (603068731313, 1, 603068731313, 603068731312, 603068731314), (9422948926751, 1, 9422948926751, 9422948926750, 9422948926752), (348524113765001, 1, 348524113765001, 348524113765000, 348524113765002), (37780013932126001, 1, 37780013932126001, 37780013932126000, 37780013932126002), (57845069947747697501, 1, 57845069947747697501, 57845069947747697500, 57845069947747697502), (193896674464850282021, 1, 193896674464850282021, 193896674464850282020, 193896674464850282022), (1567601395583962602251, 1, 1567601395583962602251, 1567601395583962602250, 1567601395583962602252), (1938966744648502820201, 1, 1938966744648502820201, 1938966744648502820200, 1938966744648502820202), (19389667446485028202001, 1, 19389667446485028202001, 19389667446485028202000, 19389667446485028202002)]\n"
     ]
    }
   ],
   "source": [
    "a = get_divisors(n)\n",
    "prfs = []\n",
    "for i in a:\n",
    "    prf = get_p_r_form_cached(i)\n",
    "    if len(prf) > 1 or prf[0][0] != 0:\n",
    "        prfs += prf\n",
    "\n",
    "def divisor_sum_factor(p, r):\n",
    "    dsum = 0\n",
    "    for i in range(0, r+1):\n",
    "        dsum += p**i\n",
    "    return dsum\n",
    "\n",
    "new_prfs = [] # format: (p, r, numberfactor, eulerphifactor, divisorsumfactor)\n",
    "for prf in prfs:\n",
    "    new_prfs.append((prf[0], prf[1], prf[0]**prf[1], prf[0]**prf[1]-prf[0]**(prf[1]-1), divisor_sum_factor(prf[0], prf[1])))\n",
    "\n",
    "new_prfs = [(2,1,2,1,3)]+sorted(new_prfs, key = lambda prf: prf[3])\n",
    "\n",
    "print(new_prfs)"
   ]
  },
  {
   "cell_type": "markdown",
   "metadata": {},
   "source": [
    "The list above contains all divisors of $n$, already in their PR-Form, the factor of the number, the eulerphi factor and the divisor sum factor. Using this prepared list, we can now define a really fast method to calculate all Euler Phi:"
   ]
  },
  {
   "cell_type": "code",
   "execution_count": 12,
   "metadata": {},
   "outputs": [],
   "source": [
    "def complete_number(current_prf_seq, remaining_prf, target_eulerphi):\n",
    "    current_eulerphi = 1\n",
    "    current_factors = []\n",
    "    for item in current_prf_seq:\n",
    "        current_eulerphi*=item[3]\n",
    "        current_factors.append(item[0])\n",
    "    for i,item in enumerate(remaining_prf):\n",
    "        if item[0] not in current_factors:\n",
    "            new_eulerphi = item[3]*current_eulerphi\n",
    "            if new_eulerphi == target_eulerphi:\n",
    "                number = item[2]\n",
    "                factors = '|'.join([str(j[0])+'^'+str(j[1]) for j in [item]+current_prf_seq])\n",
    "                for cpf in current_prf_seq:\n",
    "                    number*=cpf[2]\n",
    "                print(str(number)+','+factors)\n",
    "            if new_eulerphi < target_eulerphi and target_eulerphi%current_eulerphi == 0:\n",
    "                complete_number(current_prf_seq + [item], remaining_prf[i+1:], target_eulerphi)\n",
    "            else:\n",
    "                break"
   ]
  },
  {
   "cell_type": "markdown",
   "metadata": {},
   "source": [
    "Let's test this and time it again:"
   ]
  },
  {
   "cell_type": "code",
   "execution_count": 13,
   "metadata": {},
   "outputs": [
    {
     "name": "stdout",
     "output_type": "stream",
     "text": [
      "86804359679066345137046874,1567601395583962602251^1|2^1|3^1|11^1|839^1\n",
      "78820161550008428743228626,193896674464850282021^1|2^1|3^1|67751^1\n",
      "65760878544747231164429450,1567601395583962602251^1|2^1|5^2|839^1\n",
      "57869573119377563424697916,1567601395583962602251^1|2^2|11^1|839^1\n",
      "52546774366672285828819084,193896674464850282021^1|2^2|67751^1\n",
      "43402179839533172568523437,1567601395583962602251^1|3^1|11^1|839^1\n",
      "39410080775004214371614313,193896674464850282021^1|3^1|67751^1\n",
      "32880439272373615582214725,1567601395583962602251^1|5^2|839^1\n",
      "Took 0.029338 seconds\n"
     ]
    }
   ],
   "source": [
    "st = time()\n",
    "complete_number([], new_prfs, n)\n",
    "print('Took %f seconds'%(time()-st))"
   ]
  },
  {
   "cell_type": "markdown",
   "metadata": {},
   "source": [
    "Another 10x speedup. And the benefit of this method is, that it writes solutions as it is finding them and it is also structured in a way, that I can run this using multiple processor cores.\n",
    "\n",
    "That's exactly what I did with the attached code (run.py). I was running this using 48 processes at once. It was quickly clear, that the number of solutions was still too vast so I did some more reasoning on it.\n",
    "\n",
    "I noticed that the number we were looking for needed to be even, and hence 2 had to be one of it's prime factors. If 2 is not part of the prime factors, the sum of aliquot parts would not be an even number. Furthermore, I was testing solutions as they came up (using divisor_checker.py) and did some statistics on the results, e.g. how many of the sum of aliquot parts were too high or too low, this gave me some intuition about where the solution would be. I was fairly certain at this point, that the solution would not only contain the factor $2$ but also $3^x$. Even that would leave a large solution space, but I was lucky and after approximately 6 hours I finally had a solution.\n",
    "\n",
    "Here it is: **9099305265787740660101533112532340984145268**"
   ]
  },
  {
   "cell_type": "code",
   "execution_count": 14,
   "metadata": {},
   "outputs": [
    {
     "name": "stdout",
     "output_type": "stream",
     "text": [
      "Sum of aliquot parts\n",
      "12142680281284711468101282998309016699980172\n",
      "Count of natural numbers smaller than the solution that are relatively prime to it: \n",
      "3031634148236289733373855928919180891127808\n"
     ]
    }
   ],
   "source": [
    "solution = 9099305265787740660101533112532340984145268\n",
    "print('Sum of aliquot parts')\n",
    "print(sum(get_divisors(solution))-solution)\n",
    "print('Count of natural numbers smaller than the solution that are relatively prime to it: ')\n",
    "print(totient(solution))"
   ]
  },
  {
   "cell_type": "markdown",
   "metadata": {},
   "source": [
    "## Final remarks\n",
    "\n",
    "Obviously, not everyone has a 48-core box at their disposale. On an 8 core laptop, this would have taken days, maybe even weeks. It would have probably been possible to reason more intelligently about the numbers, but I guess there is an even better approach. Some people solved this in 1-2 days. Implementing all of this was not completely straightforward, and at least in my case, where I actually didn't know much about the theory behind these things, it takes time. Curious to see what others did and what other properties of the numbers could have been exploited."
   ]
  }
 ],
 "metadata": {
  "kernelspec": {
   "display_name": "Python 3",
   "language": "python",
   "name": "python3"
  },
  "language_info": {
   "codemirror_mode": {
    "name": "ipython",
    "version": 3
   },
   "file_extension": ".py",
   "mimetype": "text/x-python",
   "name": "python",
   "nbconvert_exporter": "python",
   "pygments_lexer": "ipython3",
   "version": "3.7.5"
  }
 },
 "nbformat": 4,
 "nbformat_minor": 4
}
